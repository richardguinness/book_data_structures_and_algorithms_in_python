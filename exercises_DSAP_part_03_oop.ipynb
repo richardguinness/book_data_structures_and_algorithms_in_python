{
 "cells": [
  {
   "cell_type": "markdown",
   "id": "48e002e7-6db5-42de-8a31-07c7b8dc35f6",
   "metadata": {},
   "source": [
    "### C-2.31\n",
    "Write a Python class that extends the `Progression` class so that each value in the progression is the absolute value of the difference between the previous two values. You should include a constructor that accepts a pair of numbers as the ﬁrst two values, using 2 and 200 as the defaults."
   ]
  },
  {
   "cell_type": "code",
   "execution_count": 187,
   "id": "ee461ee0-1ea9-4a54-aec7-fe9f5eff4f70",
   "metadata": {},
   "outputs": [
    {
     "name": "stdout",
     "output_type": "stream",
     "text": [
      "DiffProgression with default start values:\n",
      "2 200 198 2 196 194 2 192 190 2\n",
      "DiffProgression with default start values 4 and 8:\n",
      "4 8 4 4 0 4 4 0 4 4\n"
     ]
    }
   ],
   "source": [
    "class Progression:\n",
    "    \"\"\"Iterator producing a generic progression.\n",
    "\n",
    "    Default iterator produces the whole numbers 0, 1, 2, ...\n",
    "    \"\"\"\n",
    "\n",
    "    def __init__(self, start=0):\n",
    "        \"\"\"Initialize current to the first value of the progression.\"\"\"\n",
    "        self._current = start\n",
    "\n",
    "    def _advance(self):\n",
    "        \"\"\"Update self._current to a new value.\n",
    "\n",
    "        This should be overridden by a subclass to customize progression.\n",
    "\n",
    "        By convention, if current is set to None, this designates the\n",
    "        end of a finite progression.\n",
    "        \"\"\"\n",
    "        self._current += 1\n",
    "\n",
    "    def __next__(self):\n",
    "        \"\"\"Return the next element, or else raise StopIteration error.\"\"\"\n",
    "        if self._current is None:        # our convention to end a progression\n",
    "            raise StopIteration()\n",
    "        else:\n",
    "            answer = self._current         # record current value to return\n",
    "            self._advance()                        # advance to prepare for next time\n",
    "            return answer                            # return the answer\n",
    "\n",
    "    def __iter__(self):\n",
    "        \"\"\"By convention, an iterator must return itself as an iterator.\"\"\"\n",
    "        return self                                    \n",
    "\n",
    "    def print_progression(self, n):\n",
    "        \"\"\"Print next n values of the progression.\"\"\"\n",
    "        print(' '.join(str(next(self)) for j in range(n)))\n",
    "\n",
    "\n",
    "class FibonacciProgression(Progression):\n",
    "    \"\"\"Iterator producing a generalized Fibonacci progression.\"\"\"\n",
    "    \n",
    "    def __init__(self, first=0, second=1):\n",
    "        \"\"\"Create a new fibonacci progression.\n",
    "\n",
    "        first            the first term of the progression (default 0)\n",
    "        second         the second term of the progression (default 1)\n",
    "        \"\"\"\n",
    "        super().__init__(first)                            # start progression at first\n",
    "        self._prev = second - first                   # fictitious value preceding the first\n",
    "\n",
    "\n",
    "    def _advance(self):\n",
    "        \"\"\"Update current value by taking sum of previous two.\"\"\"\n",
    "        self._prev, self._current = self._current, self._prev + self._current\n",
    "\n",
    "class DiffProgression(Progression):\n",
    "    \"\"\"Iterator producing a progression based on the absolute difference between\n",
    "    the previous two values.\"\"\"\n",
    "    \n",
    "    def __init__(self, first=2, second=200):\n",
    "        \"\"\"Create a new progression.\n",
    "\n",
    "        first            the first term of the progression (default 2)\n",
    "        second         the second term of the progression (default 200)\n",
    "        \"\"\"\n",
    "        super().__init__(first)                            # start progression at first\n",
    "        self._prev = 0                   # fictitious value preceding the first\n",
    "        self._count = 1   # count to keep track of number of calls to __next__()\n",
    "        self._first = first\n",
    "        self._second = second\n",
    "\n",
    "    def _advance(self):\n",
    "        \"\"\"Update current value by taking absolute difference of previous two.\"\"\"\n",
    "        self._count += 1\n",
    "        if self._count == 2:\n",
    "            self._current = self._second\n",
    "            self._prev = self._first\n",
    "        else:\n",
    "            self._prev, self._current = self._current, abs(self._current - self._prev)\n",
    "        \n",
    "print('DiffProgression with default start values:')\n",
    "DiffProgression().print_progression(10)\n",
    "\n",
    "print('DiffProgression with default start values 4 and 8:')\n",
    "DiffProgression(4,8).print_progression(10)"
   ]
  },
  {
   "cell_type": "markdown",
   "id": "503f223b-ba22-41e2-8821-f121ad19ea51",
   "metadata": {},
   "source": [
    "My soltution works, but it's clunky.\n",
    "\n",
    "Having looked at solutions by others, a much neater solution occurs: to adapt the fictitous `self._prev` value within `__init__()`: specify it as `first + second` and then there's no need for a count within `_advance()`:"
   ]
  },
  {
   "cell_type": "code",
   "execution_count": 188,
   "id": "58150f74-e2d8-48f1-8a3a-6b9362bebe90",
   "metadata": {},
   "outputs": [
    {
     "name": "stdout",
     "output_type": "stream",
     "text": [
      "DiffProgression with default start values:\n",
      "2 200 198 2 196 194 2 192 190 2\n",
      "DiffProgression with default start values 4 and 8:\n",
      "4 8 4 4 0 4 4 0 4 4\n"
     ]
    }
   ],
   "source": [
    "class DiffProgression(Progression):\n",
    "    \"\"\"Iterator producing a progression based on the absolute difference between\n",
    "    the previous two values.\"\"\"\n",
    "    \n",
    "    def __init__(self, first=2, second=200):\n",
    "        \"\"\"Create a new progression.\n",
    "\n",
    "        first            the first term of the progression (default 2)\n",
    "        second         the second term of the progression (default 200)\n",
    "        \"\"\"\n",
    "        super().__init__(first)                            # start progression at first\n",
    "\n",
    "        self._prev = first + second                   # fictitious value preceding the first\n",
    "\n",
    "    def _advance(self):\n",
    "        \"\"\"Update current value by taking absolute difference of previous two.\"\"\"\n",
    "        self._prev, self._current = self._current, abs(self._current - self._prev)\n",
    "        \n",
    "print('DiffProgression with default start values:')\n",
    "DiffProgression().print_progression(10)\n",
    "\n",
    "print('DiffProgression with start values 4 and 8:')\n",
    "DiffProgression(4,8).print_progression(10)"
   ]
  },
  {
   "cell_type": "markdown",
   "id": "4b545b4d-add0-4fe1-b2fd-b9cd736651b9",
   "metadata": {},
   "source": [
    "### C-2.32\n",
    "Write a Python class that extends the `Progression` class so that each value in the progression is the square root of the previous value. (Note that you can no longer represent each value with an integer.) Your constructor should accept an optional parameter specifying the start value, using 65,536 as a default."
   ]
  },
  {
   "cell_type": "code",
   "execution_count": 205,
   "id": "9b24b526-c5bf-463a-a4d8-04ef28d61b4b",
   "metadata": {},
   "outputs": [
    {
     "name": "stdout",
     "output_type": "stream",
     "text": [
      "DiffProgression with default start value:\n",
      "65536 256.0 16.0 4.0 2.0 1.4142135623730951 1.189207115002721 1.0905077326652577 1.0442737824274138 1.0218971486541166\n",
      "DiffProgression with start value 10:\n",
      "10 3.1622776601683795 1.7782794100389228 1.333521432163324 1.1547819846894583 1.0746078283213176 1.036632928437698 1.018151721718182 1.0090350448414476 1.0045073642544626\n"
     ]
    }
   ],
   "source": [
    "class SqRtProgression(Progression):\n",
    "    \"\"\"Iterator producing a progression based on the square root of the previous value.\"\"\"\n",
    "    \n",
    "    def __init__(self, first=2**16):\n",
    "        \"\"\"Create a new progression.\n",
    "\n",
    "        first            the first term of the progression (default 65,536)\n",
    "        \"\"\"\n",
    "        super().__init__(first)                            # start progression at first\n",
    "        self._prev = first**2\n",
    "\n",
    "    def _advance(self):\n",
    "        \"\"\"Update current value by calculating square root of previous value.\"\"\"\n",
    "        self._prev, self._current = self._current, self._current**(0.5)\n",
    "        \n",
    "print('DiffProgression with default start value:')\n",
    "SqRtProgression().print_progression(10)\n",
    "\n",
    "print('DiffProgression with start value 10:')\n",
    "SqRtProgression(10).print_progression(10)"
   ]
  },
  {
   "cell_type": "markdown",
   "id": "29a73f10-0f67-4e51-9879-30b88a0edc75",
   "metadata": {},
   "source": [
    "Not sure why I complicated this by keeping track of the previous value. This wasn't necessary. So while, again, my solution works, it's needlessly complicated. The following works better:"
   ]
  },
  {
   "cell_type": "code",
   "execution_count": 210,
   "id": "283572b4-18eb-495e-bc66-1bf11aa517b2",
   "metadata": {},
   "outputs": [
    {
     "name": "stdout",
     "output_type": "stream",
     "text": [
      "DiffProgression with default start value:\n",
      "65536 256.0 16.0 4.0 2.0 1.4142135623730951 1.189207115002721 1.0905077326652577 1.0442737824274138 1.0218971486541166\n",
      "DiffProgression with start value 10:\n",
      "10 3.1622776601683795 1.7782794100389228 1.333521432163324 1.1547819846894583 1.0746078283213176 1.036632928437698 1.018151721718182 1.0090350448414476 1.0045073642544626\n"
     ]
    }
   ],
   "source": [
    "class SqRtProgression(Progression):\n",
    "    \"\"\"Iterator producing a progression based on the square root of the previous value.\"\"\"\n",
    "    \n",
    "    def __init__(self, first=2**16):\n",
    "        \"\"\"Create a new progression.\n",
    "\n",
    "        first            the first term of the progression (default 65,536)\n",
    "        \"\"\"\n",
    "        super().__init__(first)                            # start progression at first\n",
    "\n",
    "    def _advance(self):\n",
    "        \"\"\"Update current value by calculating square root of previous value.\"\"\"\n",
    "        self._current = self._current**(0.5)\n",
    "        \n",
    "print('DiffProgression with default start value:')\n",
    "SqRtProgression().print_progression(10)\n",
    "\n",
    "print('DiffProgression with start value 10:')\n",
    "SqRtProgression(10).print_progression(10)"
   ]
  }
 ],
 "metadata": {
  "kernelspec": {
   "display_name": "Python 3 (ipykernel)",
   "language": "python",
   "name": "python3"
  },
  "language_info": {
   "codemirror_mode": {
    "name": "ipython",
    "version": 3
   },
   "file_extension": ".py",
   "mimetype": "text/x-python",
   "name": "python",
   "nbconvert_exporter": "python",
   "pygments_lexer": "ipython3",
   "version": "3.10.6"
  }
 },
 "nbformat": 4,
 "nbformat_minor": 5
}

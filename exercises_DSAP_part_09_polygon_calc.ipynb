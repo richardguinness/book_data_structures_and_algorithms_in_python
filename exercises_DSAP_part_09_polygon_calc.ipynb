{
 "cells": [
  {
   "cell_type": "markdown",
   "id": "a8ccec97-3764-4a85-abc5-63c3edbf735f",
   "metadata": {
    "tags": []
   },
   "source": [
    "### P-2.39\n",
    "\n",
    "Develop an inheritance hierarchy based upon a `Polygon` class that has abstract methods `area()` and `perimeter()`. Implement classes `Triangle`, `Quadrilateral`, `Pentagon`, `Hexagon`, and `Octagon` that extend this base class, with the obvious meanings for the `area()` and `perimeter()` methods. Also implement classes, `IsoscelesTriangle`, `EquilateralTriangle`, `Rectangle`, and `Square`, that have the appropriate inheritance relationships. Finally, write a simple program that allows users to create polygons of the various types and input their geometric dimensions, and the program then outputs their area and perimeter.\n",
    "\n",
    "For extra effort, allow users to input polygons by specifying their vertex coordinates and be able to test if two such polygons are similar."
   ]
  },
  {
   "cell_type": "code",
   "execution_count": 308,
   "id": "d48aadaa-9296-4177-9c08-2f256c9d3ee9",
   "metadata": {},
   "outputs": [],
   "source": [
    "from abc import ABC, abstractmethod\n",
    "\n",
    "class Polygon(ABC): # Polygon is derived from ABC, which is derived from object()\n",
    "    \"\"\"Abstract Base Class\n",
    "    Provides methods area and perimeter for concrete subclassess\"\"\"\n",
    "    \n",
    "    @abstractmethod # Indicates that this method must be overriden by derived object\n",
    "    def get_area(self):\n",
    "        pass\n",
    "\n",
    "    @abstractmethod\n",
    "    def get_perimeter(self):\n",
    "        pass\n",
    "    \n",
    "    def __init__(self, len_sides=[], verts=[]):\n",
    "\n",
    "        self._len_sides = len_sides\n",
    "        self._num_sides = len(len_sides)\n",
    "        self._num_vertices = len(verts)\n",
    "    \n",
    "    def get_len_sides(self):\n",
    "        return self._len_sides\n",
    "    \n",
    "    def get_num_sides(self):\n",
    "        return self._num_sides\n",
    "    \n",
    "    def get_num_vertices(self):\n",
    "        return self._num_vertices\n",
    "\n",
    "class Triangle(Polygon): # Triangle is derived from Polygon. Assumed we have measurements of all sides\n",
    "    \n",
    "    def __init__(self, len_sides, verts=[]):\n",
    "        super().__init__(len_sides, verts)\n",
    "        \n",
    "        if len(len_sides) != 3: # No input validation\n",
    "            raise ValueError(\"need length of exactly three sides\")\n",
    "    \n",
    "    def get_area(self):\n",
    "        a, b, c = self.get_len_sides()\n",
    "        s = (a + b + c)/2 # semi-perimeter\n",
    "        area = (s*(s-a)*(s-b)*(s-c))**0.5 # Heron's forumla\n",
    "        return area\n",
    "    \n",
    "    def get_perimeter(self):\n",
    "        a, b, c = self.get_len_sides()\n",
    "        return a+b+c\n",
    "\n",
    "class IsocelesTriangle(Polygon): # IsocelesTriangle is derived from Polygon\n",
    "    \n",
    "    def __init__(self, a, b):\n",
    "        super().__init__([a,a,b], verts=[])\n",
    "        self._len_a, self._len_b = a, b\n",
    "    \n",
    "    def get_area(self):\n",
    "        a, b = self._len_a, self._len_b\n",
    "        return (b*((a**2) - ((b/2)**2)) ** 0.5) / 2\n",
    "    \n",
    "    def get_perimeter(self):\n",
    "        return 2 * self._len_a + self._len_b\n",
    "    \n",
    "class EquilateralTriangle(Polygon): # EquilateralTriangle is derived from Polygon\n",
    "    \n",
    "    def __init__(self, a):\n",
    "        super().__init__([a,a,a], verts=[])\n",
    "        self._len_a = a\n",
    "    \n",
    "    def get_area(self):\n",
    "        a = self._len_a\n",
    "        return ((3**0.5)/4) * (a**2)\n",
    "    \n",
    "    def get_perimeter(self):\n",
    "        a = self._len_a\n",
    "        return 3 * a\n",
    "        \n",
    "class Quadrilateral(Polygon):\n",
    "    \n",
    "    def __init__(self, len_sides, verts=[]):\n",
    "        \n",
    "        if len(len_sides) != 4:\n",
    "            raise ValueError(\"Exactly 4 side lengths required\")\n",
    "        super().__init__(len_sides, verts)\n",
    "    \n",
    "    def get_area(self):\n",
    "        return \"area of quadrilateral\"\n",
    "    \n",
    "    def get_perimeter(self):\n",
    "        p = 0\n",
    "        for side in self.get_len_sides():\n",
    "            p = p + side\n",
    "        return p\n",
    "    \n",
    "class Rectangle(Quadrilateral):\n",
    "    \n",
    "    def __init__(self, len_sides, verts=[]):\n",
    "        \n",
    "        if len(len_sides) != 2:\n",
    "            raise ValueError(\"Exactly 2 side lengths required\")\n",
    "        \n",
    "        super().__init__([len_sides[0],len_sides[1],len_sides[0],len_sides[1]], verts)\n",
    "    \n",
    "    def get_area(self):\n",
    "        a = self.get_len_sides()[0]\n",
    "        b = self.get_len_sides()[1]\n",
    "        return a * b\n",
    "    \n",
    "    def get_perimeter(self):\n",
    "        a = self.get_len_sides()[0]\n",
    "        b = self.get_len_sides()[1]\n",
    "        return 2 * a + 2 * b\n",
    "    \n",
    "class Square(Rectangle): # A square is a special rectangle\n",
    "    \n",
    "    def __init__(self, len_sides, verts=[]):\n",
    "        \n",
    "        if len(len_sides) != 1:\n",
    "            raise ValueError(\"Exactly 1 side lengths required\")\n",
    "\n",
    "        super().__init__([len_sides[0], len_sides[0]], verts)\n",
    "    \n",
    "    def get_area(self):\n",
    "        a = self.get_len_sides()[0]\n",
    "        return a ** 2\n",
    "    \n",
    "    def get_perimeter(self):\n",
    "        a = self.get_len_sides()[0]\n",
    "        return 4 * a"
   ]
  },
  {
   "cell_type": "code",
   "execution_count": 301,
   "id": "1fb0dd3a-ec08-4cfd-9f9a-01d3d0c18e85",
   "metadata": {},
   "outputs": [
    {
     "data": {
      "text/plain": [
       "([3, 4, 5], 3, 0, 6.0, 12)"
      ]
     },
     "execution_count": 301,
     "metadata": {},
     "output_type": "execute_result"
    }
   ],
   "source": [
    "tri = Triangle([3,4,5])\n",
    "tri.get_len_sides(), tri.get_num_sides(), tri.get_num_vertices(), tri.get_area(), tri.get_perimeter()"
   ]
  },
  {
   "cell_type": "code",
   "execution_count": 302,
   "id": "d20be426-89f9-48a0-bf82-4fc6e977ba10",
   "metadata": {},
   "outputs": [
    {
     "data": {
      "text/plain": [
       "([2, 2, 3], 3, 0, 1.984313483298443, 7)"
      ]
     },
     "execution_count": 302,
     "metadata": {},
     "output_type": "execute_result"
    }
   ],
   "source": [
    "isotri = IsocelesTriangle(2,3)\n",
    "isotri.get_len_sides(), isotri.get_num_sides(), isotri.get_num_vertices(), isotri.get_area(), isotri.get_perimeter()"
   ]
  },
  {
   "cell_type": "code",
   "execution_count": 303,
   "id": "0c863205-a177-44d8-a908-86b2b364a558",
   "metadata": {},
   "outputs": [
    {
     "data": {
      "text/plain": [
       "([2, 2, 2], 3, 0, 1.7320508075688772, 6)"
      ]
     },
     "execution_count": 303,
     "metadata": {},
     "output_type": "execute_result"
    }
   ],
   "source": [
    "equitri = EquilateralTriangle(2)\n",
    "equitri.get_len_sides(), equitri.get_num_sides(), equitri.get_num_vertices(), equitri.get_area(), equitri.get_perimeter()"
   ]
  },
  {
   "cell_type": "code",
   "execution_count": 309,
   "id": "225bce11-31ed-46e4-8fd8-d336704be7bd",
   "metadata": {},
   "outputs": [
    {
     "data": {
      "text/plain": [
       "([2, 3, 4, 5], 4, 0, 'area of quadrilateral', 14)"
      ]
     },
     "execution_count": 309,
     "metadata": {},
     "output_type": "execute_result"
    }
   ],
   "source": [
    "quad = Quadrilateral([2,3,4,5])\n",
    "quad.get_len_sides(), quad.get_num_sides(), quad.get_num_vertices(), quad.get_area(), quad.get_perimeter()"
   ]
  },
  {
   "cell_type": "code",
   "execution_count": 311,
   "id": "77205322-2c90-4edc-953c-0032c53faea0",
   "metadata": {},
   "outputs": [
    {
     "data": {
      "text/plain": [
       "([2, 3, 2, 3], 4, 0, 6, 10)"
      ]
     },
     "execution_count": 311,
     "metadata": {},
     "output_type": "execute_result"
    }
   ],
   "source": [
    "rectangle = Rectangle([2,3])\n",
    "rectangle.get_len_sides(), rectangle.get_num_sides(), rectangle.get_num_vertices(), rectangle.get_area(), rectangle.get_perimeter()"
   ]
  },
  {
   "cell_type": "code",
   "execution_count": 310,
   "id": "e0def57f-e87f-4147-b596-9a52fa1176c0",
   "metadata": {},
   "outputs": [
    {
     "data": {
      "text/plain": [
       "([2, 2, 2, 2], 4, 0, 4, 8)"
      ]
     },
     "execution_count": 310,
     "metadata": {},
     "output_type": "execute_result"
    }
   ],
   "source": [
    "square = Square([2])\n",
    "square.get_len_sides(), square.get_num_sides(), square.get_num_vertices(), square.get_area(), square.get_perimeter()"
   ]
  },
  {
   "cell_type": "markdown",
   "id": "959f74b6-e08f-44dc-bfd6-7e2d7268365a",
   "metadata": {},
   "source": [
    "I found some guidance at the following link: https://www.sitepoint.com/community/t/typeerror-new-missing-2-required-positional-arguments-bases-and-namespace/316646\n",
    "\n",
    "I wasn't really sure how far to go with this. Looking at the above link helped me get a bit of a better perspective. For example, I'm not quite sure why there needs to be different classes for Isoceles/Equilateral triangles... the same method (Heron's method) canbe used to calculate area. The inheritance structure would be better I feel if there was a requirements also to create Right Angle and Scalene triangles: that would have all types of triangles covered.\n",
    "\n",
    "I haven't added the pentagon or hexagon subclasses above. They should be derived from the `Polygon` class. The challenge in implementing them is simply to ensure that the formula for the `get_area()` member method is designed correctly, which is more of a maths problem than a coding problem.\n",
    "\n",
    "Also, I haven't progressed the following bit:\n",
    "\n",
    "> For extra effort, allow users to input polygons by specifying their vertex coordinates and be able to test if two such polygons are similar.\n",
    "\n",
    "This could be approached in a few ways, depending on how we interpret the term \"similar\":\n",
    "\n",
    "1. By considering only the area and perimeter values of each. We could simply compare these values. If the values are the same, we can state that the polygons might be similar. We can't be sure though.\n",
    "2. By considering the length of sides of each polygon. If the polygon sides are the same length, and in the same order, then we can state that the polygons are identical, regardless of orientation.\n",
    "3. By considering the length of sides of each polygon in proportion to each other. We can state that polygons are similar if we consider a scaling factor.\n",
    "\n",
    "I feel like this is taking me down a bit of a rabbit hole and I'm going to move on. I could spend time researching how to compare the geometry of objects, but for now I think better to move to the next topic."
   ]
  }
 ],
 "metadata": {
  "kernelspec": {
   "display_name": "Python 3 (ipykernel)",
   "language": "python",
   "name": "python3"
  },
  "language_info": {
   "codemirror_mode": {
    "name": "ipython",
    "version": 3
   },
   "file_extension": ".py",
   "mimetype": "text/x-python",
   "name": "python",
   "nbconvert_exporter": "python",
   "pygments_lexer": "ipython3",
   "version": "3.10.6"
  }
 },
 "nbformat": 4,
 "nbformat_minor": 5
}

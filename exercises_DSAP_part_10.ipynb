{
 "cells": [
  {
   "cell_type": "markdown",
   "id": "a8ccec97-3764-4a85-abc5-63c3edbf735f",
   "metadata": {
    "tags": []
   },
   "source": [
    "### R-3.1\n",
    "\n",
    "Graph the functions 8n, 4n log n, 2n2 , n3 , and 2n using a logarithmic scale\n",
    "for the x- and y-axes; that is, if the function value f (n) is y, plot this as a\n",
    "point with x-coordinate at log n and y-coordinate at log y."
   ]
  },
  {
   "cell_type": "code",
   "execution_count": 308,
   "id": "d48aadaa-9296-4177-9c08-2f256c9d3ee9",
   "metadata": {},
   "outputs": [],
   "source": []
  },
  {
   "cell_type": "code",
   "execution_count": 1,
   "id": "4389303a-3a8b-44e7-84d4-32b4d8f5009c",
   "metadata": {
    "tags": []
   },
   "outputs": [],
   "source": [
    "def find(S, val):\n",
    "    \"\"\"Return index j such that S[j] == val, or -1 if no such element.\"\"\"\n",
    "    n = len(S)\n",
    "    j = 0\n",
    "    while j < n:\n",
    "        if S[j] == val:\n",
    "            return j\n",
    "        j += 1\n",
    "    return -1"
   ]
  },
  {
   "cell_type": "code",
   "execution_count": 4,
   "id": "57874ab9-7480-451d-b08f-4d62db88c884",
   "metadata": {
    "tags": []
   },
   "outputs": [
    {
     "data": {
      "text/plain": [
       "0"
      ]
     },
     "execution_count": 4,
     "metadata": {},
     "output_type": "execute_result"
    }
   ],
   "source": [
    "S, val = [1,2,3], 1\n",
    "\n",
    "find(S, val)"
   ]
  },
  {
   "cell_type": "code",
   "execution_count": 5,
   "id": "b8d57837-8ef1-4bb7-8894-b460362674f0",
   "metadata": {
    "tags": []
   },
   "outputs": [
    {
     "data": {
      "text/plain": [
       "1"
      ]
     },
     "execution_count": 5,
     "metadata": {},
     "output_type": "execute_result"
    }
   ],
   "source": [
    "S[0]"
   ]
  },
  {
   "cell_type": "markdown",
   "id": "cfaf3e0f-cd38-4d6a-9849-718e95cf05a1",
   "metadata": {},
   "source": [
    "In pseudocode:\n",
    "\n",
    "1. Starting with the first index (j = 0), compare S[j] with val. If they're equal, return j (0). If not, increase the counter j by 1\n",
    "2. For j = 1, repeat the same checks."
   ]
  }
 ],
 "metadata": {
  "kernelspec": {
   "display_name": "p3_DAND_Jupyter",
   "language": "python",
   "name": "p3_dand_jupyter"
  },
  "language_info": {
   "codemirror_mode": {
    "name": "ipython",
    "version": 3
   },
   "file_extension": ".py",
   "mimetype": "text/x-python",
   "name": "python",
   "nbconvert_exporter": "python",
   "pygments_lexer": "ipython3",
   "version": "3.8.10"
  }
 },
 "nbformat": 4,
 "nbformat_minor": 5
}

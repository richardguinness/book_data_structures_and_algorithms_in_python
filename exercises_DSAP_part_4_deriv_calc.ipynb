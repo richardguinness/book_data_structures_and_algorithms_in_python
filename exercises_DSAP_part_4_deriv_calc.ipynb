{
 "cells": [
  {
   "cell_type": "markdown",
   "id": "c2519f52-9d33-4700-bc07-c9eee4d70b8d",
   "metadata": {},
   "source": [
    "### P-2.33\n",
    "\n",
    "Write a Python program that inputs a polynomial in standard algebraic notation and outputs the ﬁrst derivative of that polynomial.\n",
    "\n",
    "- A polynomial is an expresion of the form `aw^3 + bx^2 - cy^1 + dz^0` (which is `aw^3 + bx^2 - cy + d`)\n",
    "- The first derivative of the above polynomial would be `3aw^2 + 2bx - c`\n",
    "- In order to express the input polynomial as a derivative, we would need to identify each term, and the coefficients and exponents within each term, by parsing the expression.\n",
    "\n",
    "For example `aw^3 + bx^2 - cy^1 + dz^0`:\n",
    "\n",
    "- Term 1 is `aw^3`. Coefficient is `a`, variable is `w`, and exponent is `3`\n",
    "- Term 2 is `bx^2`. Coefficient is `b`, variable is `x`, and exponent is `2`\n",
    "- Term 3 is `-cy^1`. Coefficient is `-c`, variable is `y`, and exponent is `1`\n",
    "- Term 4 is `dz^0`. Coefficient is `d`, variable is `z`, and exponent is `0`\n",
    "\n",
    "So we could build an object-oriented view of a polynomial by classifying each term as an object with coefficient, variable, and exponent properties. The process of performing differentiation on each term would then be quite straightforward:\n",
    "\n",
    "1. Multiply each term's coefficient by the exponent\n",
    "2. Reduce the exponent's value by 1\n",
    "3. Replace var with 1 if the output exp value is 0\n"
   ]
  },
  {
   "cell_type": "code",
   "execution_count": 453,
   "id": "6acb5353-0d38-497f-a591-bc025e58cb55",
   "metadata": {},
   "outputs": [],
   "source": [
    "class PolyTerm:\n",
    "    '''Class defining a term in a polynomial\n",
    "    coef    the term's coefficient. May be negative. Must be float.\n",
    "    var     the term's variable e.g. x, y, z. Must be string.\n",
    "    exp     the term's exponent. Must be float\n",
    "    No terms may be zero length, or omitted.\n",
    "    '''\n",
    "    \n",
    "    def __init__(self, coef, var, exp):\n",
    "        self._coef = float(coef)\n",
    "        self._var = str(var)\n",
    "        self._exp = float(exp)\n",
    "    \n",
    "    def differentiate(self):\n",
    "        '''Calculate first derivative\n",
    "        Update the coef, var, and exp values accordingly\n",
    "        '''\n",
    "        if not self._exp:\n",
    "            self._var, self._exp = 0.0, 0.0\n",
    "\n",
    "        else:            \n",
    "            self._coef = self._exp * self._coef\n",
    "            self._exp = self._exp\n",
    "            self._exp -= 1\n",
    "            \n",
    "    def __repr__(self):\n",
    "        '''Display the term in human readable format'''\n",
    "        \n",
    "        return f\"{self._coef}*{self._var}^{self._exp}\"\n",
    "    \n",
    "    def is_negative(self):\n",
    "        '''Identify whether the term is negative in value\n",
    "        Return True if coefficient is negative\n",
    "        Return False otherwise'''\n",
    "        \n",
    "        if self._coef < 0:\n",
    "            return True"
   ]
  },
  {
   "cell_type": "code",
   "execution_count": 454,
   "id": "efe9b667-118a-4089-9ea7-3e3a24728608",
   "metadata": {},
   "outputs": [
    {
     "name": "stdout",
     "output_type": "stream",
     "text": [
      "2.0*y^3.0\n",
      "6.0*y^2.0\n",
      "12.0*y^1.0\n",
      "12.0*y^0.0\n",
      "12.0*0.0^0.0\n",
      "12.0*0.0^0.0\n"
     ]
    }
   ],
   "source": [
    "term = PolyTerm(2,'y',3)\n",
    "print(term)\n",
    "term.differentiate()\n",
    "print(term)\n",
    "term.differentiate()\n",
    "print(term)\n",
    "term.differentiate()\n",
    "print(term)\n",
    "term.differentiate()\n",
    "print(term)\n",
    "term.differentiate()\n",
    "print(term)"
   ]
  },
  {
   "cell_type": "code",
   "execution_count": 455,
   "id": "bb906e9c-3d8a-4213-87b8-d0a887ae7879",
   "metadata": {},
   "outputs": [
    {
     "name": "stdout",
     "output_type": "stream",
     "text": [
      "Input polynomial:  3Y^2+23y^43-4x^0+63y^4-4y^23\n",
      "First derivative:  +6.0*Y^1.0 +989.0*y^42.0  -4.0*0.0^0.0 +252.0*y^3.0  -92.0*y^22.0 \n"
     ]
    }
   ],
   "source": [
    "import re\n",
    "regex_terms = r'([+-]?[^-+]+)' # A repeated capture group which produces a tuple containing each term separated by + or -\n",
    "regex_components = r'(\\+\\d+|\\-\\d+|\\d+)?([a-zA-Z])?(?:\\^)?(\\d+)?'\n",
    "\n",
    "#kbbuffer = input()\n",
    "kbbuffer = \"3Y^2+23y^43-4x^0+63y^4-4y^23\" # Take care to specify x^0 as opposed to omitting this term\n",
    "\n",
    "poly_in = re.findall(regex_terms,kbbuffer)\n",
    "polynomial = []\n",
    "polynomial_string = ''\n",
    "\n",
    "for term in poly_in:\n",
    "    coef, var, exp = re.findall(regex_components,term)[0] # [0] added so empty matches are not displayed\n",
    "    #print(coef, var, exp)\n",
    "    polynomial.append(PolyTerm(coef, var, exp))\n",
    "\n",
    "for term in polynomial:\n",
    "    term.differentiate()\n",
    "    #print(term)\n",
    "    \n",
    "    if not term.is_negative():\n",
    "        polynomial_string += \"+\" + str(term) + \" \"\n",
    "    else:\n",
    "        polynomial_string += \" \" + str(term) + \" \"\n",
    "\n",
    "print(\"Input polynomial: \", kbbuffer)\n",
    "print(\"First derivative: \", polynomial_string)"
   ]
  },
  {
   "cell_type": "markdown",
   "id": "151f559e-3c99-4125-8d18-72703c2ee6c7",
   "metadata": {},
   "source": [
    "The above procedure achieves our goal but could be improved by the following:\n",
    "\n",
    "1. Seperate out a function which prepares the polynomial ready for `print()`. This could then easily conceal weird terms like `-4.0*0.0^0.0`!\n",
    "2. Improve type checking. This would allow arguments to be omitted (and hence it wouldn't be necessary to spec eg `x^0` in lieu of `1` on the input)\n",
    "3. It doesn't handle polynomials where there are multiple variables (e.g. `x`, `y`, `z`). So it's not possible to specify the variable to \"differentiate by\" presently. The PolyTerm class could be modified quickly to simply return an empty term if it contains a variable other than the one we want to differentiate."
   ]
  }
 ],
 "metadata": {
  "kernelspec": {
   "display_name": "Python 3 (ipykernel)",
   "language": "python",
   "name": "python3"
  },
  "language_info": {
   "codemirror_mode": {
    "name": "ipython",
    "version": 3
   },
   "file_extension": ".py",
   "mimetype": "text/x-python",
   "name": "python",
   "nbconvert_exporter": "python",
   "pygments_lexer": "ipython3",
   "version": "3.10.6"
  }
 },
 "nbformat": 4,
 "nbformat_minor": 5
}
